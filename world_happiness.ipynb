{
 "cells": [
  {
   "cell_type": "code",
   "execution_count": 1,
   "metadata": {},
   "outputs": [],
   "source": [
    "# Dependencies\n",
    "import pandas as pd\n",
    "import numpy as np\n",
    "import matplotlib.pyplot as plt\n",
    "from scipy.stats import linregress"
   ]
  },
  {
   "cell_type": "markdown",
   "metadata": {},
   "source": [
    "## Enrique's code starts here"
   ]
  },
  {
   "cell_type": "code",
   "execution_count": 2,
   "metadata": {},
   "outputs": [],
   "source": [
    "# read in the data\n",
    "employment_data = pd.read_csv(\"Resources/Average annual hours actually worked.csv\")\n",
    "happiness_data = pd.read_csv(\"Resources/World Happiness Report 2018.csv\")"
   ]
  },
  {
   "cell_type": "code",
   "execution_count": null,
   "metadata": {},
   "outputs": [],
   "source": [
    "# clean up employment_data\n",
    "\n",
    "# get only relevant rows\n",
    "employment_data = employment_data[[\"Country\", \"Employment status\", \"Time\", \"Value\"]]\n",
    "\n",
    "# get only total employment\n",
    "total_employment = employment_data.loc[employment_data[\"Employment status\"] == \"Total employment\"]\n",
    "\n",
    "# get only 2018 data\n",
    "total_employment_2018 = total_employment.loc[total_employment[\"Time\"] == 2018]\n",
    "\n",
    "# sort by country\n",
    "total_employment_2018 = total_employment_2018.sort_values(by=\"Country\")\n",
    "\n",
    "# rename columns and get a final dataframe\n",
    "total_employment_2018 = total_employment_2018[[\"Country\", \"Value\"]]\n",
    "total_employment_2018 = total_employment_2018.rename(columns={\"Value\": \"Avg Hours Worked per Worker\"})"
   ]
  },
  {
   "cell_type": "code",
   "execution_count": 3,
   "metadata": {},
   "outputs": [],
   "source": [
    "# clean up happiness_data\n",
    "\n",
    "# rename country column for merging\n",
    "happiness_data = happiness_data.rename(columns={\"Country or region\": \"Country\"})"
   ]
  },
  {
   "cell_type": "code",
   "execution_count": null,
   "metadata": {},
   "outputs": [],
   "source": [
    "# merge happiness data into the employment data\n",
    "data = pd.merge(total_employment_2018, happiness_data, how=\"left\", on=\"Country\")\n",
    "\n",
    "# clean up merged data\n",
    "data = data.dropna()"
   ]
  },
  {
   "cell_type": "code",
   "execution_count": null,
   "metadata": {},
   "outputs": [],
   "source": [
    "# Plot Average Number of Hours Worked per Worker by Country\n",
    "\n",
    "# countries list and tick locations\n",
    "countries = data[\"Country\"].tolist()\n",
    "tick_locations = np.arange(len(countries))\n",
    "\n",
    "# dataframe for plot\n",
    "hours_worked = data[[\"Country\", \"Avg Hours Worked per Worker\"]]\n",
    "\n",
    "# plot the data\n",
    "hours_worked.plot(kind=\"bar\", legend=False, width=.8)\n",
    "\n",
    "# assign xticks\n",
    "plt.xticks(tick_locations, countries, rotation=90)\n",
    "\n",
    "# title and labels\n",
    "plt.title(f\"Average Number of Hours Worked\\n\"\n",
    "          f\"per Worker by Country (2018)\")\n",
    "plt.xlabel(\"Country\")\n",
    "plt.ylabel(\"Number of Hours\")\n",
    "\n",
    "print(len(countries))\n",
    "# display plot\n",
    "plt.tight_layout()\n",
    "plt.show()"
   ]
  },
  {
   "cell_type": "code",
   "execution_count": null,
   "metadata": {},
   "outputs": [],
   "source": [
    "# Regression Analysis for Question #1\n",
    "# Hypothesis: Countries with lower working hours will tend to have a higher happiness score.\n",
    "\n",
    "# define independent and dependent variables\n",
    "independent_variable = \"Avg Hours Worked per Worker\"\n",
    "dependent_variable = \"Score\"\n",
    "\n",
    "# define title and labels\n",
    "xlabel = \"Number of Hours Worked\"\n",
    "ylabel = \"Happiness Score\"\n",
    "title = f\"{ylabel} vs. {xlabel}\"\n",
    "\n",
    "# create dataframe\n",
    "hours_and_happiness = data[[\"Country\", independent_variable, dependent_variable]]\n",
    "\n",
    "# define x and y values\n",
    "x_values = hours_and_happiness[independent_variable]\n",
    "y_values = hours_and_happiness[dependent_variable]\n",
    "\n",
    "# run regression\n",
    "(slope, intercept, rvalue, pvalue, stderr) = linregress(x_values, y_values)\n",
    "\n",
    "# calculate regression values\n",
    "regress_values = x_values * slope + intercept\n",
    "\n",
    "# create line equation\n",
    "line_eq = f\"y = {round(slope, 4)}x + {round(intercept, 2)}\"\n",
    "\n",
    "# plot the data\n",
    "plt.scatter(x_values, y_values)\n",
    "\n",
    "# plot the regression line\n",
    "plt.plot(x_values, regress_values, \"r-\")\n",
    "\n",
    "# add equation\n",
    "plt.annotate(line_eq, (1780, 5.8), fontsize=15, color=\"red\")\n",
    "\n",
    "# add title and labels to plot\n",
    "plt.title(title)\n",
    "plt.xlabel(xlabel)\n",
    "plt.ylabel(ylabel)\n",
    "\n",
    "# print summary data\n",
    "print(f\"The r-squared value is: {round(rvalue**2, 2)}\")\n",
    "print(f\"The p-value is: {round(pvalue, 2)}\")\n",
    "\n",
    "# display the plot\n",
    "plt.show()"
   ]
  },
  {
   "cell_type": "markdown",
   "metadata": {},
   "source": [
    "### Enrique's code ends here"
   ]
  },
  {
   "cell_type": "markdown",
   "metadata": {},
   "source": [
    "## Jake's code starts here"
   ]
  },
  {
   "cell_type": "code",
   "execution_count": 10,
   "metadata": {},
   "outputs": [
    {
     "data": {
      "text/html": [
       "<div>\n",
       "<style scoped>\n",
       "    .dataframe tbody tr th:only-of-type {\n",
       "        vertical-align: middle;\n",
       "    }\n",
       "\n",
       "    .dataframe tbody tr th {\n",
       "        vertical-align: top;\n",
       "    }\n",
       "\n",
       "    .dataframe thead th {\n",
       "        text-align: right;\n",
       "    }\n",
       "</style>\n",
       "<table border=\"1\" class=\"dataframe\">\n",
       "  <thead>\n",
       "    <tr style=\"text-align: right;\">\n",
       "      <th></th>\n",
       "      <th>Group</th>\n",
       "      <th>Country</th>\n",
       "      <th>Time</th>\n",
       "      <th>Extremely poor</th>\n",
       "      <th>Moderately poor</th>\n",
       "      <th>Near poor</th>\n",
       "      <th>Developing middle class and above</th>\n",
       "      <th>Overall rank</th>\n",
       "      <th>Score</th>\n",
       "      <th>GDP per capita</th>\n",
       "      <th>Social support</th>\n",
       "      <th>Healthy life expectancy</th>\n",
       "      <th>Freedom to make life choices</th>\n",
       "      <th>Generosity</th>\n",
       "      <th>Perceptions of corruption</th>\n",
       "    </tr>\n",
       "  </thead>\n",
       "  <tbody>\n",
       "    <tr>\n",
       "      <td>0</td>\n",
       "      <td>Low income countries</td>\n",
       "      <td>Afghanistan</td>\n",
       "      <td>2018</td>\n",
       "      <td>37.61</td>\n",
       "      <td>32.71</td>\n",
       "      <td>17.57</td>\n",
       "      <td>12.11</td>\n",
       "      <td>145</td>\n",
       "      <td>3.632</td>\n",
       "      <td>0.332</td>\n",
       "      <td>0.537</td>\n",
       "      <td>0.255</td>\n",
       "      <td>0.085</td>\n",
       "      <td>0.191</td>\n",
       "      <td>0.036</td>\n",
       "    </tr>\n",
       "    <tr>\n",
       "      <td>1</td>\n",
       "      <td>Low income countries</td>\n",
       "      <td>Benin</td>\n",
       "      <td>2018</td>\n",
       "      <td>42.26</td>\n",
       "      <td>27.12</td>\n",
       "      <td>16.77</td>\n",
       "      <td>13.85</td>\n",
       "      <td>136</td>\n",
       "      <td>4.141</td>\n",
       "      <td>0.378</td>\n",
       "      <td>0.372</td>\n",
       "      <td>0.240</td>\n",
       "      <td>0.440</td>\n",
       "      <td>0.163</td>\n",
       "      <td>0.067</td>\n",
       "    </tr>\n",
       "    <tr>\n",
       "      <td>2</td>\n",
       "      <td>Low income countries</td>\n",
       "      <td>Burkina Faso</td>\n",
       "      <td>2018</td>\n",
       "      <td>37.66</td>\n",
       "      <td>33.42</td>\n",
       "      <td>17.68</td>\n",
       "      <td>11.24</td>\n",
       "      <td>121</td>\n",
       "      <td>4.424</td>\n",
       "      <td>0.314</td>\n",
       "      <td>1.097</td>\n",
       "      <td>0.254</td>\n",
       "      <td>0.312</td>\n",
       "      <td>0.175</td>\n",
       "      <td>0.128</td>\n",
       "    </tr>\n",
       "    <tr>\n",
       "      <td>3</td>\n",
       "      <td>Low income countries</td>\n",
       "      <td>Burundi</td>\n",
       "      <td>2018</td>\n",
       "      <td>71.98</td>\n",
       "      <td>17.56</td>\n",
       "      <td>7.64</td>\n",
       "      <td>2.83</td>\n",
       "      <td>156</td>\n",
       "      <td>2.905</td>\n",
       "      <td>0.091</td>\n",
       "      <td>0.627</td>\n",
       "      <td>0.145</td>\n",
       "      <td>0.065</td>\n",
       "      <td>0.149</td>\n",
       "      <td>0.076</td>\n",
       "    </tr>\n",
       "    <tr>\n",
       "      <td>4</td>\n",
       "      <td>Low income countries</td>\n",
       "      <td>Central African Republic</td>\n",
       "      <td>2018</td>\n",
       "      <td>69.96</td>\n",
       "      <td>15.86</td>\n",
       "      <td>9.34</td>\n",
       "      <td>4.85</td>\n",
       "      <td>155</td>\n",
       "      <td>3.083</td>\n",
       "      <td>0.024</td>\n",
       "      <td>0.000</td>\n",
       "      <td>0.010</td>\n",
       "      <td>0.305</td>\n",
       "      <td>0.218</td>\n",
       "      <td>0.038</td>\n",
       "    </tr>\n",
       "  </tbody>\n",
       "</table>\n",
       "</div>"
      ],
      "text/plain": [
       "                  Group                   Country  Time  Extremely poor  \\\n",
       "0  Low income countries               Afghanistan  2018           37.61   \n",
       "1  Low income countries                     Benin  2018           42.26   \n",
       "2  Low income countries              Burkina Faso  2018           37.66   \n",
       "3  Low income countries                   Burundi  2018           71.98   \n",
       "4  Low income countries  Central African Republic  2018           69.96   \n",
       "\n",
       "   Moderately poor  Near poor  Developing middle class and above  \\\n",
       "0            32.71      17.57                              12.11   \n",
       "1            27.12      16.77                              13.85   \n",
       "2            33.42      17.68                              11.24   \n",
       "3            17.56       7.64                               2.83   \n",
       "4            15.86       9.34                               4.85   \n",
       "\n",
       "   Overall rank  Score  GDP per capita  Social support  \\\n",
       "0           145  3.632           0.332           0.537   \n",
       "1           136  4.141           0.378           0.372   \n",
       "2           121  4.424           0.314           1.097   \n",
       "3           156  2.905           0.091           0.627   \n",
       "4           155  3.083           0.024           0.000   \n",
       "\n",
       "   Healthy life expectancy  Freedom to make life choices  Generosity  \\\n",
       "0                    0.255                         0.085       0.191   \n",
       "1                    0.240                         0.440       0.163   \n",
       "2                    0.254                         0.312       0.175   \n",
       "3                    0.145                         0.065       0.149   \n",
       "4                    0.010                         0.305       0.218   \n",
       "\n",
       "   Perceptions of corruption  \n",
       "0                      0.036  \n",
       "1                      0.067  \n",
       "2                      0.128  \n",
       "3                      0.076  \n",
       "4                      0.038  "
      ]
     },
     "execution_count": 10,
     "metadata": {},
     "output_type": "execute_result"
    }
   ],
   "source": [
    "#read in ILO data\n",
    "\n",
    "ilo_data = pd.read_csv(\"Resources/ILOSTAT.csv\")\n",
    "\n",
    "#merge data frames\n",
    "#You need to run Enrique's code before this cell to create happiness_data and rename the country column\n",
    "ilo_happiness_df = pd.merge(ilo_data, happiness_data, on=\"Country\")\n",
    "\n",
    "\n",
    "\n",
    "\n",
    "ilo_happiness_df.head()"
   ]
  },
  {
   "cell_type": "code",
   "execution_count": 15,
   "metadata": {},
   "outputs": [
    {
     "data": {
      "text/html": [
       "<div>\n",
       "<style scoped>\n",
       "    .dataframe tbody tr th:only-of-type {\n",
       "        vertical-align: middle;\n",
       "    }\n",
       "\n",
       "    .dataframe tbody tr th {\n",
       "        vertical-align: top;\n",
       "    }\n",
       "\n",
       "    .dataframe thead th {\n",
       "        text-align: right;\n",
       "    }\n",
       "</style>\n",
       "<table border=\"1\" class=\"dataframe\">\n",
       "  <thead>\n",
       "    <tr style=\"text-align: right;\">\n",
       "      <th></th>\n",
       "      <th>Income Group</th>\n",
       "      <th>Average Happiness Score</th>\n",
       "    </tr>\n",
       "  </thead>\n",
       "  <tbody>\n",
       "    <tr>\n",
       "      <td>0</td>\n",
       "      <td>Low Income</td>\n",
       "      <td>4.045840</td>\n",
       "    </tr>\n",
       "    <tr>\n",
       "      <td>1</td>\n",
       "      <td>Lower-Middle Income</td>\n",
       "      <td>4.845633</td>\n",
       "    </tr>\n",
       "    <tr>\n",
       "      <td>2</td>\n",
       "      <td>Upper-Middle Income</td>\n",
       "      <td>5.480588</td>\n",
       "    </tr>\n",
       "    <tr>\n",
       "      <td>3</td>\n",
       "      <td>High Income</td>\n",
       "      <td>6.402000</td>\n",
       "    </tr>\n",
       "  </tbody>\n",
       "</table>\n",
       "</div>"
      ],
      "text/plain": [
       "          Income Group  Average Happiness Score\n",
       "0           Low Income                 4.045840\n",
       "1  Lower-Middle Income                 4.845633\n",
       "2  Upper-Middle Income                 5.480588\n",
       "3          High Income                 6.402000"
      ]
     },
     "execution_count": 15,
     "metadata": {},
     "output_type": "execute_result"
    }
   ],
   "source": [
    "#separate countries into income groups\n",
    "low_income = ilo_happiness_df[ilo_happiness_df[\"Group\"] == \"Low income countries\"]\n",
    "low_mid_income = ilo_happiness_df[ilo_happiness_df[\"Group\"] == \"Lower-middle income countries\"]\n",
    "up_mid_income = ilo_happiness_df[ilo_happiness_df[\"Group\"] == \"Upper-middle income countries\"]\n",
    "high_income = ilo_happiness_df[ilo_happiness_df[\"Group\"] == \"High income countries\"]\n",
    "\n",
    "#calculate mean happiness score for each income group\n",
    "low_income_happiness = low_income[\"Score\"].mean()\n",
    "low_mid_income_happiness = low_mid_income[\"Score\"].mean()\n",
    "up_mid_income_happiness = up_mid_income[\"Score\"].mean()\n",
    "high_income_happiness = high_income[\"Score\"].mean()\n",
    "\n",
    "#create dataframe with income groups and their mean happiness score\n",
    "happiness_groups = pd.DataFrame({\"Income Group\": [\"Low Income\", \"Lower-Middle Income\", \"Upper-Middle Income\", \"High Income\"],\n",
    "                                \"Average Happiness Score\": [low_income_happiness, low_mid_income_happiness, up_mid_income_happiness, high_income_happiness]})\n",
    "\n",
    "happiness_groups"
   ]
  },
  {
   "cell_type": "code",
   "execution_count": 18,
   "metadata": {},
   "outputs": [
    {
     "data": {
      "text/plain": [
       "<BarContainer object of 4 artists>"
      ]
     },
     "execution_count": 18,
     "metadata": {},
     "output_type": "execute_result"
    },
    {
     "data": {
      "image/png": "[encoded data removed]",
      "text/plain": [
       "<Figure size 432x288 with 1 Axes>"
      ]
     },
     "metadata": {
      "needs_background": "light"
     },
     "output_type": "display_data"
    }
   ],
   "source": [
    "plt.bar(happiness_groups[\"Income Group\"], happiness_groups[\"Average Happiness Score\"], color='r', alpha=0.5, align=\"center\")"
   ]
  },
  {
   "cell_type": "markdown",
   "metadata": {},
   "source": [
    "### Jake's code ends here"
   ]
  },
  {
   "cell_type": "markdown",
   "metadata": {},
   "source": [
    "## Yee's code starts here"
   ]
  },
  {
   "cell_type": "code",
   "execution_count": null,
   "metadata": {},
   "outputs": [],
   "source": []
  },
  {
   "cell_type": "markdown",
   "metadata": {},
   "source": [
    "### Yee's code ends here"
   ]
  },
  {
   "cell_type": "code",
   "execution_count": null,
   "metadata": {},
   "outputs": [],
   "source": []
  }
 ],
 "metadata": {
  "kernelspec": {
   "display_name": "Python 3",
   "language": "python",
   "name": "python3"
  },
  "language_info": {
   "codemirror_mode": {
    "name": "ipython",
    "version": 3
   },
   "file_extension": ".py",
   "mimetype": "text/x-python",
   "name": "python",
   "nbconvert_exporter": "python",
   "pygments_lexer": "ipython3",
   "version": "3.7.4"
  }
 },
 "nbformat": 4,
 "nbformat_minor": 4
}
