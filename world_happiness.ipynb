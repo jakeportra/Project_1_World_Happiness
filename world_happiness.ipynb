{
 "cells": [
  {
   "cell_type": "code",
   "execution_count": null,
   "metadata": {},
   "outputs": [],
   "source": [
    "import warnings\n",
    "warnings.filterwarnings('ignore')"
   ]
  },
  {
   "cell_type": "code",
   "execution_count": null,
   "metadata": {},
   "outputs": [],
   "source": [
    "# Dependencies\n",
    "import pandas as pd\n",
    "import numpy as np\n",
    "import matplotlib.pyplot as plt\n",
    "from scipy.stats import linregress\n",
    "import scipy.stats as stats"
   ]
  },
  {
   "cell_type": "markdown",
   "metadata": {},
   "source": [
    "## Enrique's code starts here"
   ]
  },
  {
   "cell_type": "code",
   "execution_count": null,
   "metadata": {},
   "outputs": [],
   "source": [
    "# read in the data\n",
    "employment_data = pd.read_csv(\"Resources/Average annual hours actually worked.csv\")\n",
    "happiness_data = pd.read_csv(\"Resources/World Happiness Report 2018.csv\")"
   ]
  },
  {
   "cell_type": "code",
   "execution_count": null,
   "metadata": {},
   "outputs": [],
   "source": [
    "# clean up employment_data\n",
    "\n",
    "# get only relevant rows\n",
    "employment_data = employment_data[[\"Country\", \"Employment status\", \"Time\", \"Value\"]]\n",
    "\n",
    "# get only total employment\n",
    "total_employment = employment_data.loc[employment_data[\"Employment status\"] == \"Total employment\"]\n",
    "\n",
    "# get only 2018 data\n",
    "total_employment_2018 = total_employment.loc[total_employment[\"Time\"] == 2018]\n",
    "\n",
    "# sort by country\n",
    "total_employment_2018 = total_employment_2018.sort_values(by=\"Country\")\n",
    "\n",
    "# rename columns and get a final dataframe\n",
    "total_employment_2018 = total_employment_2018[[\"Country\", \"Value\"]]\n",
    "total_employment_2018 = total_employment_2018.rename(columns={\"Value\": \"Avg Hours Worked per Worker\"})"
   ]
  },
  {
   "cell_type": "code",
   "execution_count": null,
   "metadata": {},
   "outputs": [],
   "source": [
    "# clean up happiness_data\n",
    "\n",
    "# rename country column for merging\n",
    "happiness_data = happiness_data.rename(\n",
    "    columns={\n",
    "        \"Country or region\": \"Country\",\n",
    "        \"Score\": \"Happiness Score\"\n",
    "    }\n",
    ")"
   ]
  },
  {
   "cell_type": "code",
   "execution_count": null,
   "metadata": {},
   "outputs": [],
   "source": [
    "# merge happiness data into the employment data\n",
    "data = pd.merge(total_employment_2018, happiness_data, how=\"left\", on=\"Country\")\n",
    "\n",
    "# clean up merged data\n",
    "data = data.dropna()"
   ]
  },
  {
   "cell_type": "code",
   "execution_count": null,
   "metadata": {},
   "outputs": [],
   "source": [
    "# Plot Average Number of Hours Worked per Worker by Country\n",
    "\n",
    "# countries list and tick locations\n",
    "countries = data[\"Country\"].tolist()\n",
    "tick_locations = np.arange(len(countries))\n",
    "\n",
    "# dataframe for plot\n",
    "hours_worked = data[[\"Country\", \"Avg Hours Worked per Worker\"]]\n",
    "\n",
    "# plot the data\n",
    "hours_worked.plot(kind=\"bar\", legend=False, width=.8)\n",
    "\n",
    "# assign xticks\n",
    "plt.xticks(tick_locations, countries, rotation=90)\n",
    "\n",
    "# title and labels\n",
    "plt.title(f\"Average Number of Hours Worked\\n\"\n",
    "          f\"per Worker by Country (2018)\")\n",
    "plt.xlabel(\"Country\")\n",
    "plt.ylabel(\"Number of Hours\")\n",
    "\n",
    "# display plot\n",
    "plt.tight_layout()\n",
    "plt.show()"
   ]
  },
  {
   "cell_type": "code",
   "execution_count": null,
   "metadata": {},
   "outputs": [],
   "source": [
    "# Plot Happiness Score by Country\n",
    "\n",
    "# countries list and tick locations\n",
    "countries = data[\"Country\"].tolist()\n",
    "tick_locations = np.arange(len(countries))\n",
    "\n",
    "# dataframe for plot\n",
    "happiness_scores = data[[\"Country\", \"Happiness Score\"]]\n",
    "\n",
    "# plot the data\n",
    "happiness_scores.plot(kind=\"bar\", legend=False, width=.8)\n",
    "\n",
    "# assign xticks\n",
    "plt.xticks(tick_locations, countries, rotation=90)\n",
    "\n",
    "# title and labels\n",
    "plt.title(\"Happiness Score by Country\")\n",
    "plt.xlabel(\"Country\")\n",
    "plt.ylabel(\"Happiness Score\")\n",
    "\n",
    "print(len(countries))\n",
    "# display plot\n",
    "plt.tight_layout()\n",
    "plt.show()"
   ]
  },
  {
   "cell_type": "code",
   "execution_count": null,
   "metadata": {},
   "outputs": [],
   "source": [
    "# Regression Analysis for Question #1\n",
    "# Hypothesis: Countries with lower working hours will tend to have a higher happiness score.\n",
    "\n",
    "# define independent and dependent variables\n",
    "independent_variable = \"Avg Hours Worked per Worker\"\n",
    "dependent_variable = \"Happiness Score\"\n",
    "\n",
    "# define title and labels\n",
    "xlabel = \"Number of Hours Worked\"\n",
    "ylabel = \"Happiness Score\"\n",
    "title = f\"{ylabel} vs. {xlabel}\"\n",
    "\n",
    "# create dataframe\n",
    "hours_and_happiness = data[[\"Country\", independent_variable, dependent_variable]]\n",
    "\n",
    "# define x and y values\n",
    "x_values = hours_and_happiness[independent_variable]\n",
    "y_values = hours_and_happiness[dependent_variable]\n",
    "\n",
    "# run regression\n",
    "(slope, intercept, rvalue, pvalue, stderr) = linregress(x_values, y_values)\n",
    "\n",
    "# calculate regression values\n",
    "regress_values = x_values * slope + intercept\n",
    "\n",
    "# create line equation\n",
    "line_eq = f\"y = {round(slope, 4)}x + {round(intercept, 2)}\"\n",
    "\n",
    "# plot the data\n",
    "plt.scatter(x_values, y_values)\n",
    "\n",
    "# plot the regression line\n",
    "plt.plot(x_values, regress_values, \"r-\")\n",
    "\n",
    "# add equation\n",
    "plt.annotate(line_eq, (1780, 5.8), fontsize=15, color=\"red\")\n",
    "\n",
    "# add title and labels to plot\n",
    "plt.title(title)\n",
    "plt.xlabel(xlabel)\n",
    "plt.ylabel(ylabel)\n",
    "\n",
    "# print summary data\n",
    "print(f\"The r-squared value is: {round(rvalue**2, 2)}\")\n",
    "\n",
    "# display the plot\n",
    "plt.show()"
   ]
  },
  {
   "cell_type": "code",
   "execution_count": null,
   "metadata": {},
   "outputs": [],
   "source": [
    "#create categories for statistical analysis\n",
    "labels = [\"low\", \"medium\", \"high\"]\n",
    "hours_and_happiness[\"Group\"] = pd.qcut(hours_and_happiness[\"Avg Hours Worked per Worker\"], q=3, labels=labels)"
   ]
  },
  {
   "cell_type": "code",
   "execution_count": null,
   "metadata": {},
   "outputs": [],
   "source": [
    "# get happiness scores for each category\n",
    "low_hours_happiness = hours_and_happiness.loc[hours_and_happiness[\"Group\"] == \"low\", \"Happiness Score\"]\n",
    "med_hours_happiness = hours_and_happiness.loc[hours_and_happiness[\"Group\"] == \"medium\", \"Happiness Score\"]\n",
    "high_hours_happiness = hours_and_happiness.loc[hours_and_happiness[\"Group\"] == \"high\", \"Happiness Score\"]\n",
    "\n",
    "# get the statistic value for each test\n",
    "low_vs_med_statistic = stats.ttest_ind(low_hours_happiness, med_hours_happiness).statistic\n",
    "low_vs_high_statistic = stats.ttest_ind(low_hours_happiness, high_hours_happiness).statistic\n",
    "med_vs_high_statistic = stats.ttest_ind(med_hours_happiness, high_hours_happiness).statistic\n",
    "\n",
    "# get the pvalue for each test\n",
    "low_vs_med_pvalue = stats.ttest_ind(low_hours_happiness, med_hours_happiness).pvalue\n",
    "low_vs_high_pvalue = stats.ttest_ind(low_hours_happiness, high_hours_happiness).pvalue\n",
    "med_vs_high_pvalue = stats.ttest_ind(med_hours_happiness, high_hours_happiness).pvalue\n",
    "\n",
    "# initial print statement\n",
    "print(\"=======================================================================================\\n\"\n",
    "      \"Statistical Analysis:\\n\\n\"\n",
    "      \"\\tIndependent Student's t-test for Happiness vs. Average Hours Worked per Worker.\\n\\n\"\n",
    "      \"Null Hypothesis:\\n\\n\"\n",
    "      \"\\tIf number of hours worked has no impact on happiness score, then the mean happiness\\n\"\n",
    "      \"score accross all three groups will be the same.\\n\"\n",
    "      \"=======================================================================================\\n\")\n",
    "\n",
    "# test 1 print statements\n",
    "print(\"---------------------------------------------------------------------------------------\\n\"\n",
    "      \"Test 1: Lowest Working Hours Group vs Medium Working Hours Group\\n\\n\"\n",
    "      f\"\\tStatistic = {low_vs_med_statistic}\\n\"\n",
    "      f\"\\tP-value = {low_vs_med_pvalue}\\n\")\n",
    "if low_vs_med_pvalue < 0.05:\n",
    "    print(f\"Since our pvalue of {round(low_vs_med_pvalue,4)} is lower than 0.05, we must reject the null hypothesis.\")\n",
    "else:\n",
    "    print(f\"Since our pvalue of {round(low_vs_med_pvalue,4)} is greater than 0.05, we cannot reject the null hypothesis.\")\n",
    "print(\"---------------------------------------------------------------------------------------\")\n",
    "\n",
    "# test 2 print statements\n",
    "print(\"Test 2: Lowest Working Hours Group vs Highest Working Hours Group\\n\\n\"\n",
    "      f\"\\tStatistic = {low_vs_high_statistic}\\n\"\n",
    "      f\"\\tP-value = {low_vs_high_pvalue}\\n\")\n",
    "if low_vs_high_pvalue < 0.05:\n",
    "    print(f\"Since our pvalue of {round(low_vs_high_pvalue,4)} is lower than 0.05, we must reject the null hypothesis.\")\n",
    "else:\n",
    "    print(f\"Since our pvalue of {round(low_vs_high_pvalue,4)} is greater than 0.05, we cannot reject the null hypothesis.\")\n",
    "print(\"---------------------------------------------------------------------------------------\")\n",
    "\n",
    "# test 3 print statements\n",
    "print(\"Test 3: Medium Working Hours Group vs Highest Working Hours Group\\n\\n\"\n",
    "      f\"\\tStatistic = {med_vs_high_statistic}\\n\"\n",
    "      f\"\\tP-value = {med_vs_high_pvalue}\\n\")\n",
    "if med_vs_high_pvalue < 0.05:\n",
    "    print(f\"Since our pvalue of {round(med_vs_high_pvalue,4)} is lower than 0.05, we must reject the null hypothesis.\")\n",
    "else:\n",
    "    print(f\"Since our pvalue of {round(med_vs_high_pvalue,4)} is greater than 0.05, we cannot reject the null hypothesis.\")\n",
    "print(\"---------------------------------------------------------------------------------------\\n\")\n",
    "\n",
    "print(\"=======================================================================================\\n\"\n",
    "      \"Conclusion\\n\\n\"\n",
    "      \"\\tGiven our first test, we can determine that the difference in working hours\\n\"\n",
    "      \"between the Low Working Hours Group and the Medium Working Hours Group is statistically\\n\"\n",
    "      \"significant in its effect on their Happiness Score.\\n\\n\"\n",
    "      \"\\tOur second test demonstrates the same result. The difference in working hours\\n\"\n",
    "      \"between the Low Working Hours Group and the Medium Working Hours Group is statistically\\n\"\n",
    "      \"significant in its effect on their Happiness Score.\\n\\n\"\n",
    "     \"\\tThe third test gave us a different result. The difference in working hours between\\n\"\n",
    "     \"the Medium Working Hours Group and the High Working Hours Group was not statistically\\n\"\n",
    "     \"significant in its effect on their Happiness Score.\\n\"\n",
    "     \"=======================================================================================\")"
   ]
  },
  {
   "cell_type": "markdown",
   "metadata": {},
   "source": [
    "### Enrique's code ends here"
   ]
  },
  {
   "cell_type": "markdown",
   "metadata": {},
   "source": [
    "## Jake's code starts here"
   ]
  },
  {
   "cell_type": "code",
   "execution_count": null,
   "metadata": {},
   "outputs": [],
   "source": [
    "#read in ILO data\n",
    "\n",
    "ilo_data = pd.read_csv(\"Resources/ILOSTAT.csv\")\n",
    "\n",
    "#merge data frames\n",
    "#You need to run Enrique's code before this cell to create happiness_data and rename the country column\n",
    "ilo_happiness_df = pd.merge(ilo_data, happiness_data, on=\"Country\")\n",
    "\n",
    "\n",
    "\n",
    "\n",
    "ilo_happiness_df.head()"
   ]
  },
  {
   "cell_type": "code",
   "execution_count": null,
   "metadata": {},
   "outputs": [],
   "source": [
    "#separate countries into income groups\n",
    "low_income = ilo_happiness_df[ilo_happiness_df[\"Group\"] == \"Low income countries\"]\n",
    "low_mid_income = ilo_happiness_df[ilo_happiness_df[\"Group\"] == \"Lower-middle income countries\"]\n",
    "up_mid_income = ilo_happiness_df[ilo_happiness_df[\"Group\"] == \"Upper-middle income countries\"]\n",
    "high_income = ilo_happiness_df[ilo_happiness_df[\"Group\"] == \"High income countries\"]\n",
    "\n",
    "#calculate mean happiness score for each income group\n",
    "low_income_happiness = low_income[\"Score\"].mean()\n",
    "low_mid_income_happiness = low_mid_income[\"Score\"].mean()\n",
    "up_mid_income_happiness = up_mid_income[\"Score\"].mean()\n",
    "high_income_happiness = high_income[\"Score\"].mean()\n",
    "\n",
    "#create dataframe with income groups and their mean happiness score\n",
    "happiness_groups = pd.DataFrame({\"Income Group\": [\"Low Income\", \"Lower-Middle Income\", \"Upper-Middle Income\", \"High Income\"],\n",
    "                                \"Average Happiness Score\": [low_income_happiness, low_mid_income_happiness, up_mid_income_happiness, high_income_happiness]})\n",
    "\n",
    "happiness_groups"
   ]
  },
  {
   "cell_type": "code",
   "execution_count": null,
   "metadata": {},
   "outputs": [],
   "source": [
    "plt.bar(happiness_groups[\"Income Group\"], happiness_groups[\"Average Happiness Score\"], color='r', alpha=1, align=\"center\")\n",
    "plt.xticks(rotation=45)\n",
    "plt.title(f\"Average Happiness Score by Income Group\")\n",
    "plt.xlabel(\"Income Group\")\n",
    "plt.ylabel(\"Average Happiness Score\")\n",
    "plt.show()"
   ]
  },
  {
   "cell_type": "code",
   "execution_count": null,
   "metadata": {},
   "outputs": [],
   "source": []
  },
  {
   "cell_type": "code",
   "execution_count": null,
   "metadata": {},
   "outputs": [],
   "source": [
    "#happiness score vs poverty rate\n",
    "\n",
    "poverty_df = pd.DataFrame({\"Country\": ilo_happiness_df[\"Country\"],\n",
    "                          \"Happiness Score\": ilo_happiness_df[\"Score\"]})\n",
    "\n",
    "for row in poverty_df:\n",
    "    poverty_df[\"Poverty Rate\"] = ilo_happiness_df[\"Extremely poor\"] + ilo_happiness_df[\"Moderately poor\"]\n",
    "    \n",
    "poverty_df = poverty_df.dropna()\n",
    "\n",
    "poverty_df"
   ]
  },
  {
   "cell_type": "code",
   "execution_count": null,
   "metadata": {},
   "outputs": [],
   "source": [
    "# define x and y values\n",
    "x_values = poverty_df[\"Poverty Rate\"]\n",
    "y_values = poverty_df[\"Happiness Score\"]\n",
    "\n",
    "# run regression\n",
    "(slope, intercept, rvalue, pvalue, stderr) = linregress(x_values, y_values)\n",
    "\n",
    "# calculate regression values\n",
    "regress_values = x_values * slope + intercept\n",
    "\n",
    "# create line equation\n",
    "line_eq = f\"y = {round(slope, 4)}x + {round(intercept, 2)}\"\n",
    "\n",
    "# plot the data\n",
    "plt.scatter(x_values, y_values)\n",
    "\n",
    "# plot the regression line\n",
    "plt.plot(x_values, regress_values, \"r-\")\n",
    "\n",
    "# add equation\n",
    "plt.annotate(line_eq, (39, 5.5), fontsize=15, color=\"red\")\n",
    "\n",
    "# add title and labels to plot\n",
    "plt.title(\"Happiness Score vs. Poverty Rate\")\n",
    "plt.xlabel(\"Poverty Rate\")\n",
    "plt.ylabel(\"Happiness Score\")\n",
    "\n",
    "# print summary data\n",
    "print(f\"The r-squared value is: {round(rvalue**2, 2)}\")\n",
    "print(f\"The p-value is: {round(pvalue, 2)}\")\n",
    "\n",
    "# display the plot\n",
    "plt.show()"
   ]
  },
  {
   "cell_type": "code",
   "execution_count": null,
   "metadata": {},
   "outputs": [],
   "source": []
  },
  {
   "cell_type": "markdown",
   "metadata": {},
   "source": [
    "### Jake's code ends here"
   ]
  },
  {
   "cell_type": "markdown",
   "metadata": {},
   "source": [
    "## Yee's code starts here"
   ]
  },
  {
   "cell_type": "code",
   "execution_count": null,
   "metadata": {},
   "outputs": [],
   "source": []
  },
  {
   "cell_type": "markdown",
   "metadata": {},
   "source": [
    "### Yee's code ends here"
   ]
  },
  {
   "cell_type": "code",
   "execution_count": null,
   "metadata": {},
   "outputs": [],
   "source": []
  }
 ],
 "metadata": {
  "kernelspec": {
   "display_name": "Python 3",
   "language": "python",
   "name": "python3"
  },
  "language_info": {
   "codemirror_mode": {
    "name": "ipython",
    "version": 3
   },
   "file_extension": ".py",
   "mimetype": "text/x-python",
   "name": "python",
   "nbconvert_exporter": "python",
   "pygments_lexer": "ipython3",
   "version": "3.6.9"
  }
 },
 "nbformat": 4,
 "nbformat_minor": 4
}
